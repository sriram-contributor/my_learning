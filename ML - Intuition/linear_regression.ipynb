{
 "cells": [
  {
   "cell_type": "code",
   "execution_count": 1,
   "id": "84032190-1ec9-45ef-88cd-8806774d6eee",
   "metadata": {},
   "outputs": [],
   "source": [
    "import numpy as np\n",
    "import pandas as pd"
   ]
  },
  {
   "cell_type": "code",
   "execution_count": 8,
   "id": "f1e7da9a-b72a-45af-a5fa-5eb1d51369c9",
   "metadata": {},
   "outputs": [],
   "source": [
    "import matplotlib.pyplot as plt\n",
    "import seaborn as sns\n",
    "%matplotlib inline"
   ]
  },
  {
   "cell_type": "code",
   "execution_count": 9,
   "id": "dd2a6e0a-472b-4e32-8fb2-b8d05ec5c91d",
   "metadata": {},
   "outputs": [],
   "source": [
    "distance = [1, 2, 3, 4, 5, 6, 7, 8, 9, 10]\n",
    "time = [1, 2, 3, 4, 5, 6, 7, 8, 9, 10]"
   ]
  },
  {
   "cell_type": "code",
   "execution_count": 10,
   "id": "484c3cec-b352-4029-ac4e-aa9f5a54584d",
   "metadata": {},
   "outputs": [],
   "source": [
    "distance = np.array(distance)\n",
    "time = np.array(time)"
   ]
  },
  {
   "cell_type": "code",
   "execution_count": 30,
   "id": "f60d5773-c9f9-4d41-b1d0-15480424c819",
   "metadata": {},
   "outputs": [
    {
     "data": {
      "text/plain": [
       "<Axes: >"
      ]
     },
     "execution_count": 30,
     "metadata": {},
     "output_type": "execute_result"
    },
    {
     "data": {
      "image/png": "[encoded data removed]",
      "text/plain": [
       "<Figure size 640x480 with 1 Axes>"
      ]
     },
     "metadata": {},
     "output_type": "display_data"
    }
   ],
   "source": [
    "sns.lineplot(x = time, y=distance, )"
   ]
  },
  {
   "cell_type": "code",
   "execution_count": 21,
   "id": "bf84366f-6f90-4e97-b15b-c832e9dae6ac",
   "metadata": {},
   "outputs": [],
   "source": [
    "data = pd.DataFrame({'distance':distance, 'time':time})"
   ]
  },
  {
   "cell_type": "code",
   "execution_count": 56,
   "id": "7c3a79fb-1b54-49e1-9d4f-fd6a1097a769",
   "metadata": {},
   "outputs": [
    {
     "data": {
      "text/html": [
       "<div>\n",
       "<style scoped>\n",
       "    .dataframe tbody tr th:only-of-type {\n",
       "        vertical-align: middle;\n",
       "    }\n",
       "\n",
       "    .dataframe tbody tr th {\n",
       "        vertical-align: top;\n",
       "    }\n",
       "\n",
       "    .dataframe thead th {\n",
       "        text-align: right;\n",
       "    }\n",
       "</style>\n",
       "<table border=\"1\" class=\"dataframe\">\n",
       "  <thead>\n",
       "    <tr style=\"text-align: right;\">\n",
       "      <th></th>\n",
       "      <th>distance</th>\n",
       "      <th>time</th>\n",
       "    </tr>\n",
       "  </thead>\n",
       "  <tbody>\n",
       "    <tr>\n",
       "      <th>0</th>\n",
       "      <td>1</td>\n",
       "      <td>1</td>\n",
       "    </tr>\n",
       "    <tr>\n",
       "      <th>1</th>\n",
       "      <td>2</td>\n",
       "      <td>2</td>\n",
       "    </tr>\n",
       "    <tr>\n",
       "      <th>2</th>\n",
       "      <td>3</td>\n",
       "      <td>3</td>\n",
       "    </tr>\n",
       "    <tr>\n",
       "      <th>3</th>\n",
       "      <td>4</td>\n",
       "      <td>4</td>\n",
       "    </tr>\n",
       "    <tr>\n",
       "      <th>4</th>\n",
       "      <td>5</td>\n",
       "      <td>5</td>\n",
       "    </tr>\n",
       "  </tbody>\n",
       "</table>\n",
       "</div>"
      ],
      "text/plain": [
       "   distance  time\n",
       "0         1     1\n",
       "1         2     2\n",
       "2         3     3\n",
       "3         4     4\n",
       "4         5     5"
      ]
     },
     "execution_count": 56,
     "metadata": {},
     "output_type": "execute_result"
    }
   ],
   "source": [
    "data.head()"
   ]
  },
  {
   "cell_type": "code",
   "execution_count": 53,
   "id": "3bb9f27d-5319-429d-92fd-c2c99c793994",
   "metadata": {},
   "outputs": [],
   "source": [
    "def find_slop(pos1, pos2):\n",
    "    x1, y1 = pos1\n",
    "    x2, y2 = pos2\n",
    "    slop = (y2-y1) / (x2-x1)\n",
    "    return slop    "
   ]
  },
  {
   "cell_type": "code",
   "execution_count": 55,
   "id": "4e403342-e7ce-46f1-8b38-4b735c967fe1",
   "metadata": {},
   "outputs": [
    {
     "data": {
      "text/plain": [
       "1.0"
      ]
     },
     "execution_count": 55,
     "metadata": {},
     "output_type": "execute_result"
    }
   ],
   "source": [
    "find_slop(data.iloc[3], data.iloc[4])"
   ]
  },
  {
   "cell_type": "code",
   "execution_count": null,
   "id": "6e053445-6440-42fd-b9d4-9a39b99575cb",
   "metadata": {},
   "outputs": [],
   "source": []
  },
  {
   "cell_type": "code",
   "execution_count": null,
   "id": "68be3c54-de7c-4091-a8dc-94937614b754",
   "metadata": {},
   "outputs": [],
   "source": []
  },
  {
   "cell_type": "code",
   "execution_count": 57,
   "id": "c4412ac4-e2e8-4e93-8c12-f6c6612dc21f",
   "metadata": {},
   "outputs": [
    {
     "name": "stdout",
     "output_type": "stream",
     "text": [
      "The gradient at x = 3 is: 8.00000000005241\n"
     ]
    }
   ],
   "source": [
    "import numpy as np\n",
    "\n",
    "def function(x):\n",
    "    return x**2 + 2*x + 1  # Example function: f(x) = x² + 2x + 1\n",
    "\n",
    "def compute_gradient(f, x, h=1e-5):\n",
    "    \"\"\"\n",
    "    Computes the numerical gradient using finite difference approximation.\n",
    "    f : function\n",
    "    x : point at which gradient is computed\n",
    "    h : small step size for approximation\n",
    "    \"\"\"\n",
    "    gradient = (f(x + h) - f(x - h)) / (2 * h)\n",
    "    return gradient\n",
    "\n",
    "# Example usage\n",
    "x_value = 3  # Point where we want the gradient\n",
    "grad = compute_gradient(function, x_value)\n",
    "print(f\"The gradient at x = {x_value} is: {grad}\")\n"
   ]
  },
  {
   "cell_type": "code",
   "execution_count": 89,
   "id": "d5766f06-328c-4b2f-a25e-12ae481c41bc",
   "metadata": {},
   "outputs": [
    {
     "name": "stdout",
     "output_type": "stream",
     "text": [
      "The gradient at x = 3 is: 8.000009999875601\n"
     ]
    }
   ],
   "source": [
    "import numpy as np\n",
    "\n",
    "def function(x):\n",
    "    return x**2 + 2*x + 1  # Example function: f(x) = x² + 2x + 1\n",
    "\n",
    "def compute_gradient(f, x, h=1e-5):\n",
    "    \"\"\"\n",
    "    Computes the numerical gradient using finite difference approximation.\n",
    "    f : function\n",
    "    x : point at which gradient is computed\n",
    "    h : small step size for approximation\n",
    "    \"\"\"\n",
    "    gradient = (f(x + h) - f(x)) / (h)\n",
    "    return gradient\n",
    "\n",
    "# Example usage\n",
    "x_value = 3  # Point where we want the gradient\n",
    "grad = compute_gradient(function, x_value)\n",
    "print(f\"The gradient at x = {x_value} is: {grad}\")\n"
   ]
  },
  {
   "cell_type": "code",
   "execution_count": 105,
   "id": "49c9c193-10d9-47dd-9991-a484f235619a",
   "metadata": {},
   "outputs": [],
   "source": [
    "x_value = []\n",
    "fx_value = []\n",
    "\n",
    "for i in range(-12,11):\n",
    "    x_value.append(i+1)\n",
    "    if i < 0:\n",
    "        fx_value.append(-function(i))\n",
    "    else:\n",
    "        fx_value.append(function(i))"
   ]
  },
  {
   "cell_type": "code",
   "execution_count": 106,
   "id": "9f6c8ea2-52e9-4f4a-b086-67c01e6d5bf5",
   "metadata": {},
   "outputs": [
    {
     "data": {
      "text/plain": [
       "[-11,\n",
       " -10,\n",
       " -9,\n",
       " -8,\n",
       " -7,\n",
       " -6,\n",
       " -5,\n",
       " -4,\n",
       " -3,\n",
       " -2,\n",
       " -1,\n",
       " 0,\n",
       " 1,\n",
       " 2,\n",
       " 3,\n",
       " 4,\n",
       " 5,\n",
       " 6,\n",
       " 7,\n",
       " 8,\n",
       " 9,\n",
       " 10,\n",
       " 11]"
      ]
     },
     "execution_count": 106,
     "metadata": {},
     "output_type": "execute_result"
    }
   ],
   "source": [
    "x_value"
   ]
  },
  {
   "cell_type": "code",
   "execution_count": 107,
   "id": "e53eefbe-4c71-4557-89f4-242ab754d899",
   "metadata": {},
   "outputs": [
    {
     "data": {
      "text/plain": [
       "[-121,\n",
       " -100,\n",
       " -81,\n",
       " -64,\n",
       " -49,\n",
       " -36,\n",
       " -25,\n",
       " -16,\n",
       " -9,\n",
       " -4,\n",
       " -1,\n",
       " 0,\n",
       " 1,\n",
       " 4,\n",
       " 9,\n",
       " 16,\n",
       " 25,\n",
       " 36,\n",
       " 49,\n",
       " 64,\n",
       " 81,\n",
       " 100,\n",
       " 121]"
      ]
     },
     "execution_count": 107,
     "metadata": {},
     "output_type": "execute_result"
    }
   ],
   "source": [
    "fx_value"
   ]
  },
  {
   "cell_type": "code",
   "execution_count": 102,
   "id": "04736371-96be-478d-a666-73667fd9b842",
   "metadata": {},
   "outputs": [
    {
     "data": {
      "text/plain": [
       "0"
      ]
     },
     "execution_count": 102,
     "metadata": {},
     "output_type": "execute_result"
    }
   ],
   "source": [
    "function(-1)"
   ]
  },
  {
   "cell_type": "code",
   "execution_count": null,
   "id": "ff4f1b64-38cb-407b-b2a5-d55a699810ae",
   "metadata": {},
   "outputs": [],
   "source": []
  },
  {
   "cell_type": "code",
   "execution_count": null,
   "id": "64b1d2ae-020c-4d97-82f8-87aace83f713",
   "metadata": {},
   "outputs": [],
   "source": []
  },
  {
   "cell_type": "code",
   "execution_count": null,
   "id": "58bd3c2d-2748-4d71-a9bb-c1504eeae2e5",
   "metadata": {},
   "outputs": [],
   "source": []
  },
  {
   "cell_type": "markdown",
   "id": "fa99a7cb-262a-4f93-b547-2024d1181a91",
   "metadata": {},
   "source": [
    "## Linear Regression"
   ]
  },
  {
   "cell_type": "markdown",
   "id": "9185f30d-3ec8-40f4-a5a3-488f04e29ce0",
   "metadata": {},
   "source": []
  },
  {
   "cell_type": "markdown",
   "id": "bf1243eb-48f5-432f-8775-4d4bd14ac485",
   "metadata": {},
   "source": []
  },
  {
   "cell_type": "markdown",
   "id": "18c03b8a-c9b2-403d-adfd-62bfce98e031",
   "metadata": {},
   "source": []
  },
  {
   "cell_type": "markdown",
   "id": "db8c4037-4d13-4644-ae98-4b653ed98252",
   "metadata": {},
   "source": []
  },
  {
   "cell_type": "markdown",
   "id": "5a939278-986d-475d-b04b-4642ebe0a5bf",
   "metadata": {},
   "source": []
  },
  {
   "cell_type": "markdown",
   "id": "d4c6d3fd-5751-4d75-a924-5f9f3216a6cd",
   "metadata": {},
   "source": []
  },
  {
   "cell_type": "markdown",
   "id": "48889e2b-d6da-40da-808e-2854b80e3b95",
   "metadata": {},
   "source": []
  },
  {
   "cell_type": "markdown",
   "id": "0506b634-da9d-4a43-8bc9-6557edd49b9d",
   "metadata": {},
   "source": []
  },
  {
   "cell_type": "markdown",
   "id": "8a3e94d1-7fd9-4f9e-98ca-1b7af11ecf7d",
   "metadata": {},
   "source": []
  },
  {
   "cell_type": "markdown",
   "id": "b1f1c245-ea88-4fc9-bbfe-241925658b98",
   "metadata": {},
   "source": []
  },
  {
   "cell_type": "markdown",
   "id": "ec4cbcbd-eada-462d-a786-e0ba2938957a",
   "metadata": {},
   "source": []
  },
  {
   "cell_type": "markdown",
   "id": "1322b9cb-e2a7-4495-9508-5966a02e9dfc",
   "metadata": {},
   "source": []
  },
  {
   "cell_type": "markdown",
   "id": "97cd2f85-f3e5-4463-b3d4-eb27262b1df8",
   "metadata": {},
   "source": []
  },
  {
   "cell_type": "markdown",
   "id": "9283b5f3-7366-4637-a933-9ee4c13d7caf",
   "metadata": {},
   "source": []
  },
  {
   "cell_type": "markdown",
   "id": "e5825ad4-04ce-4c56-a757-aab1bd1d1b82",
   "metadata": {},
   "source": []
  },
  {
   "cell_type": "markdown",
   "id": "7b023538-d6ce-4f26-aa0b-e934c995697f",
   "metadata": {},
   "source": []
  },
  {
   "cell_type": "markdown",
   "id": "1ad299ff-d530-448e-9f02-461daec87720",
   "metadata": {},
   "source": []
  },
  {
   "cell_type": "markdown",
   "id": "6f9db8f3-a8f4-478f-a95d-3af9f20a62e5",
   "metadata": {},
   "source": []
  },
  {
   "cell_type": "markdown",
   "id": "b2090bb4-44fe-4de2-a30a-be28ae5ad389",
   "metadata": {},
   "source": []
  },
  {
   "cell_type": "markdown",
   "id": "5e269f36-4f90-417e-8036-f1aa88fb7d46",
   "metadata": {},
   "source": []
  },
  {
   "cell_type": "markdown",
   "id": "fd97b937-c0ae-46c6-b314-fb9fe15f84ea",
   "metadata": {},
   "source": []
  },
  {
   "cell_type": "markdown",
   "id": "317b48c4-94e1-4082-abd4-60747ded90b4",
   "metadata": {},
   "source": []
  },
  {
   "cell_type": "markdown",
   "id": "b69b1a5b-aadd-4609-808f-e4c5ff08ac61",
   "metadata": {},
   "source": []
  },
  {
   "cell_type": "markdown",
   "id": "d0452c0a-37f5-461b-91eb-d11f5f4232fd",
   "metadata": {},
   "source": []
  },
  {
   "cell_type": "markdown",
   "id": "22ef60d6-d678-4042-ad9d-bbe42851f2b7",
   "metadata": {},
   "source": []
  },
  {
   "cell_type": "markdown",
   "id": "874edd44-7301-48a9-89a5-9a6c24fa46db",
   "metadata": {},
   "source": []
  },
  {
   "cell_type": "markdown",
   "id": "16dec1b9-e14f-48ed-93bc-8a64f85e8630",
   "metadata": {},
   "source": []
  },
  {
   "cell_type": "markdown",
   "id": "86ad9e1c-d65c-46e9-abd5-1287cebf7df2",
   "metadata": {},
   "source": []
  },
  {
   "cell_type": "markdown",
   "id": "bd2ab637-5ccb-4248-bdab-f2948bfee4a2",
   "metadata": {},
   "source": []
  },
  {
   "cell_type": "markdown",
   "id": "22d93557-7595-4b4a-95e0-549eef546d35",
   "metadata": {},
   "source": []
  }
 ],
 "metadata": {
  "kernelspec": {
   "display_name": "learn",
   "language": "python",
   "name": "learn"
  },
  "language_info": {
   "codemirror_mode": {
    "name": "ipython",
    "version": 3
   },
   "file_extension": ".py",
   "mimetype": "text/x-python",
   "name": "python",
   "nbconvert_exporter": "python",
   "pygments_lexer": "ipython3",
   "version": "3.11.3"
  }
 },
 "nbformat": 4,
 "nbformat_minor": 5
}
